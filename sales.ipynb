{
 "cells": [
  {
   "cell_type": "markdown",
   "metadata": {},
   "source": [
    "# Case Study 01: Sales Force Training"
   ]
  },
  {
   "cell_type": "markdown",
   "metadata": {},
   "source": [
    "### DataFrame"
   ]
  },
  {
   "cell_type": "markdown",
   "metadata": {},
   "source": [
    "Perusahaan X ingin meningkatkan penjualan mereka. Dari data penjualan sebelumnya menunjukkan bahwa penjualan rata-rata yaitu $100 per transaksi. Setelah melakukan training kepada pekerja sales, data penjualan terbaru (yang diambil dari 25 sampel pekerja sales) tersimpan dalam tabel di bawah ini:"
   ]
  },
  {
   "cell_type": "code",
   "execution_count": 6,
   "metadata": {},
   "outputs": [],
   "source": [
    "import numpy as np\n",
    "import pandas as pd\n",
    "from scipy import stats\n",
    "import statistics"
   ]
  },
  {
   "cell_type": "code",
   "execution_count": 7,
   "metadata": {},
   "outputs": [
    {
     "data": {
      "text/plain": [
       "list"
      ]
     },
     "execution_count": 7,
     "metadata": {},
     "output_type": "execute_result"
    }
   ],
   "source": [
    "TransactionAmount = [100,150,50,100,130,120,100,85,70,150,150,120,50,100,100,140,90,150,50,90,120,100,110,75,65]\n",
    "type(TransactionAmount)"
   ]
  },
  {
   "cell_type": "markdown",
   "metadata": {},
   "source": [
    "### Measure of Central Tendency"
   ]
  },
  {
   "cell_type": "code",
   "execution_count": 8,
   "metadata": {},
   "outputs": [
    {
     "name": "stdout",
     "output_type": "stream",
     "text": [
      "Rata-Rata:  102.6\n",
      "Nilai Tengah:  100\n",
      "Nilai yang Paling Sering Muncul:  100\n"
     ]
    }
   ],
   "source": [
    "# Rata-Rata\n",
    "print(\"Rata-Rata: \",statistics.mean(TransactionAmount))\n",
    "\n",
    "# Median\n",
    "print(\"Nilai Tengah: \",statistics.median(TransactionAmount))\n",
    "\n",
    "# Modus\n",
    "print(\"Nilai yang Paling Sering Muncul: \",statistics.mode(TransactionAmount))"
   ]
  },
  {
   "cell_type": "markdown",
   "metadata": {},
   "source": [
    "### Measure of Variability"
   ]
  },
  {
   "cell_type": "code",
   "execution_count": 9,
   "metadata": {},
   "outputs": [
    {
     "name": "stdout",
     "output_type": "stream",
     "text": [
      "Standart Deviasi:  31.18076330047101\n",
      "\n",
      "Variansi:  972.2399999999999\n",
      "\n",
      "Nilai Minimal:  50\n",
      "Nilai Maksimal:  150\n",
      "Range:  100\n",
      "\n",
      "Nilai Q1 (0,25):  85.0\n",
      "Nilai Q2 (0,5):  100.0\n",
      "Nilai Q3 (0,75: ) 150.0\n"
     ]
    }
   ],
   "source": [
    "# Standard Deviasi\n",
    "print(\"Standart Deviasi: \", np.std(TransactionAmount))\n",
    "\n",
    "# Variansi\n",
    "print(\"\\nVariansi: \",np.var(TransactionAmount))\n",
    "\n",
    "# Range\n",
    "print(\"\\nNilai Minimal: \",np.min(TransactionAmount))\n",
    "print(\"Nilai Maksimal: \",np.max(TransactionAmount))\n",
    "print(\"Range: \",np.max(TransactionAmount) - np.min(TransactionAmount))\n",
    "\n",
    "#Quartil\n",
    "print(\"\\nNilai Q1 (0,25): \", np.percentile(TransactionAmount,25))\n",
    "print(\"Nilai Q2 (0,5): \", np.percentile(TransactionAmount,50))\n",
    "print(\"Nilai Q3 (0,75: )\", np.percentile(TransactionAmount,100))"
   ]
  },
  {
   "cell_type": "markdown",
   "metadata": {},
   "source": [
    "### Hypothesis Testing"
   ]
  },
  {
   "cell_type": "markdown",
   "metadata": {},
   "source": [
    "#### Mendefinisikan Hipotesis\n",
    "\n",
    "###### H0 -> Transaksi rata-rata per hari = 100\n",
    "###### H1 -> Transaksi rata-rata per hari > 100"
   ]
  },
  {
   "cell_type": "markdown",
   "metadata": {},
   "source": [
    "###### _Alpha = 0.05_"
   ]
  },
  {
   "cell_type": "code",
   "execution_count": 10,
   "metadata": {},
   "outputs": [
    {
     "data": {
      "text/plain": [
       "25"
      ]
     },
     "execution_count": 10,
     "metadata": {},
     "output_type": "execute_result"
    }
   ],
   "source": [
    "len(TransactionAmount)"
   ]
  },
  {
   "cell_type": "code",
   "execution_count": 11,
   "metadata": {},
   "outputs": [
    {
     "name": "stdout",
     "output_type": "stream",
     "text": [
      "Hasil:  TtestResult(statistic=np.float64(0.4085001556802841), pvalue=np.float64(0.6865284813438117), df=np.int64(24))\n"
     ]
    }
   ],
   "source": [
    "# T-statistic & p-value\n",
    "\n",
    "print(\"Hasil: \",stats.ttest_1samp(a=TransactionAmount,popmean=100))"
   ]
  },
  {
   "cell_type": "markdown",
   "metadata": {},
   "source": [
    "##### Kesimpulan korelasi alpha dengan p-value\n",
    "\n",
    "1. Testing menolak hipotesis H0\n",
    "3. Kampanye tidak efektif karena transaksi rata-rata masih pada level 100"
   ]
  },
  {
   "cell_type": "code",
   "execution_count": 12,
   "metadata": {},
   "outputs": [
    {
     "name": "stdout",
     "output_type": "stream",
     "text": [
      "Hasil Critical Region: t >  1.7108820799094275\n"
     ]
    }
   ],
   "source": [
    "# T-statistic & critical region\n",
    "\n",
    "print(\"Hasil Critical Region: t > \",stats.t.ppf(1-0.05,24))"
   ]
  },
  {
   "cell_type": "markdown",
   "metadata": {},
   "source": [
    "#### Kesimpulan Akhir\n",
    "\n",
    "1. Hasil T-statistic = 0.4\n",
    "2. Hasil Critical Region = t>1.71 \n",
    "\n",
    "3. Testing menolak hipotesis H0 karena hasil critical region lebih besar daripada hasil t-statistic\n",
    "4. Kampanye tidak efektif karena transaksi rata-rata tetap pada level 100"
   ]
  }
 ],
 "metadata": {
  "kernelspec": {
   "display_name": "base",
   "language": "python",
   "name": "python3"
  },
  "language_info": {
   "codemirror_mode": {
    "name": "ipython",
    "version": 3
   },
   "file_extension": ".py",
   "mimetype": "text/x-python",
   "name": "python",
   "nbconvert_exporter": "python",
   "pygments_lexer": "ipython3",
   "version": "3.12.6"
  }
 },
 "nbformat": 4,
 "nbformat_minor": 2
}
